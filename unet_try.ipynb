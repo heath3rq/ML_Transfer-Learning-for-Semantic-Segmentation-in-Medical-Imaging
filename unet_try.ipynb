{
 "cells": [
  {
   "cell_type": "code",
   "execution_count": 1,
   "metadata": {},
   "outputs": [
    {
     "name": "stdout",
     "output_type": "stream",
     "text": [
      "usage: conda [-h] [-v] [--no-plugins] [-V] COMMAND ...\n",
      "conda: error: unrecognized arguments: --extra-index-url https://download.pytorch.org/whl/cu113\n",
      "usage: conda [-h] [-v] [--no-plugins] [-V] COMMAND ...\n",
      "conda: error: unrecognized arguments: -U\n",
      "Looking in links: https://download.openmmlab.com/mmcv/dist/cu113/torch1.12.0/index.html\n",
      "Requirement already satisfied: mmengine in /opt/conda/envs/openmmlab/lib/python3.8/site-packages (0.10.1)\n",
      "Requirement already satisfied: addict in /opt/conda/envs/openmmlab/lib/python3.8/site-packages (from mmengine) (2.4.0)\n",
      "Requirement already satisfied: matplotlib in /opt/conda/envs/openmmlab/lib/python3.8/site-packages (from mmengine) (3.7.4)\n",
      "Requirement already satisfied: numpy in /opt/conda/envs/openmmlab/lib/python3.8/site-packages (from mmengine) (1.24.3)\n",
      "Requirement already satisfied: pyyaml in /opt/conda/envs/openmmlab/lib/python3.8/site-packages (from mmengine) (6.0.1)\n",
      "Requirement already satisfied: rich in /opt/conda/envs/openmmlab/lib/python3.8/site-packages (from mmengine) (13.4.2)\n",
      "Requirement already satisfied: termcolor in /opt/conda/envs/openmmlab/lib/python3.8/site-packages (from mmengine) (2.4.0)\n",
      "Requirement already satisfied: yapf in /opt/conda/envs/openmmlab/lib/python3.8/site-packages (from mmengine) (0.40.2)\n",
      "Requirement already satisfied: opencv-python>=3 in /opt/conda/envs/openmmlab/lib/python3.8/site-packages (from mmengine) (4.8.1.78)\n",
      "Requirement already satisfied: contourpy>=1.0.1 in /opt/conda/envs/openmmlab/lib/python3.8/site-packages (from matplotlib->mmengine) (1.1.1)\n",
      "Requirement already satisfied: cycler>=0.10 in /opt/conda/envs/openmmlab/lib/python3.8/site-packages (from matplotlib->mmengine) (0.12.1)\n",
      "Requirement already satisfied: fonttools>=4.22.0 in /opt/conda/envs/openmmlab/lib/python3.8/site-packages (from matplotlib->mmengine) (4.46.0)\n",
      "Requirement already satisfied: kiwisolver>=1.0.1 in /opt/conda/envs/openmmlab/lib/python3.8/site-packages (from matplotlib->mmengine) (1.4.5)\n",
      "Requirement already satisfied: packaging>=20.0 in /opt/conda/envs/openmmlab/lib/python3.8/site-packages (from matplotlib->mmengine) (23.2)\n",
      "Requirement already satisfied: pillow>=6.2.0 in /opt/conda/envs/openmmlab/lib/python3.8/site-packages (from matplotlib->mmengine) (10.0.1)\n",
      "Requirement already satisfied: pyparsing>=2.3.1 in /opt/conda/envs/openmmlab/lib/python3.8/site-packages (from matplotlib->mmengine) (3.1.1)\n",
      "Requirement already satisfied: python-dateutil>=2.7 in /opt/conda/envs/openmmlab/lib/python3.8/site-packages (from matplotlib->mmengine) (2.8.2)\n",
      "Requirement already satisfied: importlib-resources>=3.2.0 in /opt/conda/envs/openmmlab/lib/python3.8/site-packages (from matplotlib->mmengine) (6.1.1)\n",
      "Requirement already satisfied: markdown-it-py>=2.2.0 in /opt/conda/envs/openmmlab/lib/python3.8/site-packages (from rich->mmengine) (3.0.0)\n",
      "Requirement already satisfied: pygments<3.0.0,>=2.13.0 in /opt/conda/envs/openmmlab/lib/python3.8/site-packages (from rich->mmengine) (2.17.2)\n",
      "Requirement already satisfied: typing-extensions<5.0,>=4.0.0 in /opt/conda/envs/openmmlab/lib/python3.8/site-packages (from rich->mmengine) (4.8.0)\n",
      "Requirement already satisfied: importlib-metadata>=6.6.0 in /opt/conda/envs/openmmlab/lib/python3.8/site-packages (from yapf->mmengine) (7.0.0)\n",
      "Requirement already satisfied: platformdirs>=3.5.1 in /opt/conda/envs/openmmlab/lib/python3.8/site-packages (from yapf->mmengine) (4.1.0)\n",
      "Requirement already satisfied: tomli>=2.0.1 in /opt/conda/envs/openmmlab/lib/python3.8/site-packages (from yapf->mmengine) (2.0.1)\n",
      "Requirement already satisfied: zipp>=0.5 in /opt/conda/envs/openmmlab/lib/python3.8/site-packages (from importlib-metadata>=6.6.0->yapf->mmengine) (3.11.0)\n",
      "Requirement already satisfied: mdurl~=0.1 in /opt/conda/envs/openmmlab/lib/python3.8/site-packages (from markdown-it-py>=2.2.0->rich->mmengine) (0.1.2)\n",
      "Requirement already satisfied: six>=1.5 in /opt/conda/envs/openmmlab/lib/python3.8/site-packages (from python-dateutil>=2.7->matplotlib->mmengine) (1.16.0)\n",
      "Looking in links: https://download.openmmlab.com/mmcv/dist/cu113/torch1.12.0/index.html\n",
      "Requirement already satisfied: mmcv>=2.0.0 in /opt/conda/envs/openmmlab/lib/python3.8/site-packages (2.1.0)\n",
      "Requirement already satisfied: addict in /opt/conda/envs/openmmlab/lib/python3.8/site-packages (from mmcv>=2.0.0) (2.4.0)\n",
      "Requirement already satisfied: mmengine>=0.3.0 in /opt/conda/envs/openmmlab/lib/python3.8/site-packages (from mmcv>=2.0.0) (0.10.1)\n",
      "Requirement already satisfied: numpy in /opt/conda/envs/openmmlab/lib/python3.8/site-packages (from mmcv>=2.0.0) (1.24.3)\n",
      "Requirement already satisfied: packaging in /opt/conda/envs/openmmlab/lib/python3.8/site-packages (from mmcv>=2.0.0) (23.2)\n",
      "Requirement already satisfied: Pillow in /opt/conda/envs/openmmlab/lib/python3.8/site-packages (from mmcv>=2.0.0) (10.0.1)\n",
      "Requirement already satisfied: pyyaml in /opt/conda/envs/openmmlab/lib/python3.8/site-packages (from mmcv>=2.0.0) (6.0.1)\n",
      "Requirement already satisfied: yapf in /opt/conda/envs/openmmlab/lib/python3.8/site-packages (from mmcv>=2.0.0) (0.40.2)\n",
      "Requirement already satisfied: opencv-python>=3 in /opt/conda/envs/openmmlab/lib/python3.8/site-packages (from mmcv>=2.0.0) (4.8.1.78)\n",
      "Requirement already satisfied: matplotlib in /opt/conda/envs/openmmlab/lib/python3.8/site-packages (from mmengine>=0.3.0->mmcv>=2.0.0) (3.7.4)\n",
      "Requirement already satisfied: rich in /opt/conda/envs/openmmlab/lib/python3.8/site-packages (from mmengine>=0.3.0->mmcv>=2.0.0) (13.4.2)\n",
      "Requirement already satisfied: termcolor in /opt/conda/envs/openmmlab/lib/python3.8/site-packages (from mmengine>=0.3.0->mmcv>=2.0.0) (2.4.0)\n",
      "Requirement already satisfied: importlib-metadata>=6.6.0 in /opt/conda/envs/openmmlab/lib/python3.8/site-packages (from yapf->mmcv>=2.0.0) (7.0.0)\n",
      "Requirement already satisfied: platformdirs>=3.5.1 in /opt/conda/envs/openmmlab/lib/python3.8/site-packages (from yapf->mmcv>=2.0.0) (4.1.0)\n",
      "Requirement already satisfied: tomli>=2.0.1 in /opt/conda/envs/openmmlab/lib/python3.8/site-packages (from yapf->mmcv>=2.0.0) (2.0.1)\n",
      "Requirement already satisfied: zipp>=0.5 in /opt/conda/envs/openmmlab/lib/python3.8/site-packages (from importlib-metadata>=6.6.0->yapf->mmcv>=2.0.0) (3.11.0)\n",
      "Requirement already satisfied: contourpy>=1.0.1 in /opt/conda/envs/openmmlab/lib/python3.8/site-packages (from matplotlib->mmengine>=0.3.0->mmcv>=2.0.0) (1.1.1)\n",
      "Requirement already satisfied: cycler>=0.10 in /opt/conda/envs/openmmlab/lib/python3.8/site-packages (from matplotlib->mmengine>=0.3.0->mmcv>=2.0.0) (0.12.1)\n",
      "Requirement already satisfied: fonttools>=4.22.0 in /opt/conda/envs/openmmlab/lib/python3.8/site-packages (from matplotlib->mmengine>=0.3.0->mmcv>=2.0.0) (4.46.0)\n",
      "Requirement already satisfied: kiwisolver>=1.0.1 in /opt/conda/envs/openmmlab/lib/python3.8/site-packages (from matplotlib->mmengine>=0.3.0->mmcv>=2.0.0) (1.4.5)\n",
      "Requirement already satisfied: pyparsing>=2.3.1 in /opt/conda/envs/openmmlab/lib/python3.8/site-packages (from matplotlib->mmengine>=0.3.0->mmcv>=2.0.0) (3.1.1)\n",
      "Requirement already satisfied: python-dateutil>=2.7 in /opt/conda/envs/openmmlab/lib/python3.8/site-packages (from matplotlib->mmengine>=0.3.0->mmcv>=2.0.0) (2.8.2)\n",
      "Requirement already satisfied: importlib-resources>=3.2.0 in /opt/conda/envs/openmmlab/lib/python3.8/site-packages (from matplotlib->mmengine>=0.3.0->mmcv>=2.0.0) (6.1.1)\n",
      "Requirement already satisfied: markdown-it-py>=2.2.0 in /opt/conda/envs/openmmlab/lib/python3.8/site-packages (from rich->mmengine>=0.3.0->mmcv>=2.0.0) (3.0.0)\n",
      "Requirement already satisfied: pygments<3.0.0,>=2.13.0 in /opt/conda/envs/openmmlab/lib/python3.8/site-packages (from rich->mmengine>=0.3.0->mmcv>=2.0.0) (2.17.2)\n",
      "Requirement already satisfied: typing-extensions<5.0,>=4.0.0 in /opt/conda/envs/openmmlab/lib/python3.8/site-packages (from rich->mmengine>=0.3.0->mmcv>=2.0.0) (4.8.0)\n",
      "Requirement already satisfied: mdurl~=0.1 in /opt/conda/envs/openmmlab/lib/python3.8/site-packages (from markdown-it-py>=2.2.0->rich->mmengine>=0.3.0->mmcv>=2.0.0) (0.1.2)\n",
      "Requirement already satisfied: six>=1.5 in /opt/conda/envs/openmmlab/lib/python3.8/site-packages (from python-dateutil>=2.7->matplotlib->mmengine>=0.3.0->mmcv>=2.0.0) (1.16.0)\n"
     ]
    }
   ],
   "source": [
    "!conda install torch==1.12.0 torchvision --extra-index-url https://download.pytorch.org/whl/cu113\n",
    "!conda install -U openmim\n",
    "!mim install mmengine\n",
    "!mim install \"mmcv>=2.0.0\"\n"
   ]
  },
  {
   "cell_type": "code",
   "execution_count": 2,
   "metadata": {},
   "outputs": [
    {
     "name": "stdout",
     "output_type": "stream",
     "text": [
      "Cloning into 'mmsegmentation'...\n",
      "remote: Enumerating objects: 16316, done.\u001b[K\n",
      "remote: Counting objects: 100% (27/27), done.\u001b[K\n",
      "remote: Compressing objects: 100% (27/27), done.\u001b[K\n",
      "remote: Total 16316 (delta 4), reused 16 (delta 0), pack-reused 16289\u001b[K\n",
      "Receiving objects: 100% (16316/16316), 23.22 MiB | 50.37 MiB/s, done.\n",
      "Resolving deltas: 100% (11377/11377), done.\n",
      "Obtaining file:///workspaces/ECE661GroupProject_TransferLearning\n",
      "\u001b[31mERROR: file:///workspaces/ECE661GroupProject_TransferLearning does not appear to be a Python project: neither 'setup.py' nor 'pyproject.toml' found.\u001b[0m\u001b[31m\n",
      "\u001b[0m"
     ]
    }
   ],
   "source": [
    "!rm -rf mmsegmentation\n",
    "!git clone https://github.com/open-mmlab/mmsegmentation.git \n",
    "!cd mmsegmentation\n",
    "!pip install -e ."
   ]
  },
  {
   "cell_type": "code",
   "execution_count": 3,
   "metadata": {},
   "outputs": [
    {
     "name": "stderr",
     "output_type": "stream",
     "text": [
      "/opt/conda/envs/openmmlab/lib/python3.8/site-packages/tqdm/auto.py:21: TqdmWarning: IProgress not found. Please update jupyter and ipywidgets. See https://ipywidgets.readthedocs.io/en/stable/user_install.html\n",
      "  from .autonotebook import tqdm as notebook_tqdm\n"
     ]
    },
    {
     "name": "stdout",
     "output_type": "stream",
     "text": [
      "1.12.0+cu113 True\n"
     ]
    },
    {
     "ename": "ImportError",
     "evalue": "libGL.so.1: cannot open shared object file: No such file or directory",
     "output_type": "error",
     "traceback": [
      "\u001b[0;31m---------------------------------------------------------------------------\u001b[0m",
      "\u001b[0;31mImportError\u001b[0m                               Traceback (most recent call last)",
      "\u001b[1;32m/workspaces/ECE661GroupProject_TransferLearning/unet_try.ipynb Cell 3\u001b[0m line \u001b[0;36m4\n\u001b[1;32m      <a href='vscode-notebook-cell://codespaces%2Bstunning-guide-xprpq76gpxqcvgv5/workspaces/ECE661GroupProject_TransferLearning/unet_try.ipynb#W2sdnNjb2RlLXJlbW90ZQ%3D%3D?line=0'>1</a>\u001b[0m \u001b[39mimport\u001b[39;00m \u001b[39mtorch\u001b[39;00m\u001b[39m,\u001b[39m \u001b[39mtorchvision\u001b[39;00m\n\u001b[1;32m      <a href='vscode-notebook-cell://codespaces%2Bstunning-guide-xprpq76gpxqcvgv5/workspaces/ECE661GroupProject_TransferLearning/unet_try.ipynb#W2sdnNjb2RlLXJlbW90ZQ%3D%3D?line=1'>2</a>\u001b[0m \u001b[39mprint\u001b[39m(torch\u001b[39m.\u001b[39m__version__, torch\u001b[39m.\u001b[39mcuda\u001b[39m.\u001b[39mis_available())\n\u001b[0;32m----> <a href='vscode-notebook-cell://codespaces%2Bstunning-guide-xprpq76gpxqcvgv5/workspaces/ECE661GroupProject_TransferLearning/unet_try.ipynb#W2sdnNjb2RlLXJlbW90ZQ%3D%3D?line=3'>4</a>\u001b[0m \u001b[39mimport\u001b[39;00m \u001b[39mmmseg\u001b[39;00m\n\u001b[1;32m      <a href='vscode-notebook-cell://codespaces%2Bstunning-guide-xprpq76gpxqcvgv5/workspaces/ECE661GroupProject_TransferLearning/unet_try.ipynb#W2sdnNjb2RlLXJlbW90ZQ%3D%3D?line=4'>5</a>\u001b[0m \u001b[39mprint\u001b[39m(mmseg\u001b[39m.\u001b[39m__version__)\n\u001b[1;32m      <a href='vscode-notebook-cell://codespaces%2Bstunning-guide-xprpq76gpxqcvgv5/workspaces/ECE661GroupProject_TransferLearning/unet_try.ipynb#W2sdnNjb2RlLXJlbW90ZQ%3D%3D?line=6'>7</a>\u001b[0m \u001b[39mimport\u001b[39;00m \u001b[39mmmcv\u001b[39;00m\n",
      "File \u001b[0;32m/workspaces/ECE661GroupProject_TransferLearning/mmsegmentation/mmseg/__init__.py:4\u001b[0m\n\u001b[1;32m      1\u001b[0m \u001b[39m# Copyright (c) OpenMMLab. All rights reserved.\u001b[39;00m\n\u001b[1;32m      2\u001b[0m \u001b[39mimport\u001b[39;00m \u001b[39mwarnings\u001b[39;00m\n\u001b[0;32m----> 4\u001b[0m \u001b[39mimport\u001b[39;00m \u001b[39mmmcv\u001b[39;00m\n\u001b[1;32m      5\u001b[0m \u001b[39mimport\u001b[39;00m \u001b[39mmmengine\u001b[39;00m\n\u001b[1;32m      6\u001b[0m \u001b[39mfrom\u001b[39;00m \u001b[39mpackaging\u001b[39;00m\u001b[39m.\u001b[39;00m\u001b[39mversion\u001b[39;00m \u001b[39mimport\u001b[39;00m parse\n",
      "File \u001b[0;32m/opt/conda/envs/openmmlab/lib/python3.8/site-packages/mmcv/__init__.py:4\u001b[0m\n\u001b[1;32m      1\u001b[0m \u001b[39m# Copyright (c) OpenMMLab. All rights reserved.\u001b[39;00m\n\u001b[1;32m      2\u001b[0m \u001b[39m# flake8: noqa\u001b[39;00m\n\u001b[1;32m      3\u001b[0m \u001b[39mfrom\u001b[39;00m \u001b[39m.\u001b[39;00m\u001b[39marraymisc\u001b[39;00m \u001b[39mimport\u001b[39;00m \u001b[39m*\u001b[39m\n\u001b[0;32m----> 4\u001b[0m \u001b[39mfrom\u001b[39;00m \u001b[39m.\u001b[39;00m\u001b[39mimage\u001b[39;00m \u001b[39mimport\u001b[39;00m \u001b[39m*\u001b[39m\n\u001b[1;32m      5\u001b[0m \u001b[39mfrom\u001b[39;00m \u001b[39m.\u001b[39;00m\u001b[39mtransforms\u001b[39;00m \u001b[39mimport\u001b[39;00m \u001b[39m*\u001b[39m\n\u001b[1;32m      6\u001b[0m \u001b[39mfrom\u001b[39;00m \u001b[39m.\u001b[39;00m\u001b[39mversion\u001b[39;00m \u001b[39mimport\u001b[39;00m \u001b[39m*\u001b[39m\n",
      "File \u001b[0;32m/opt/conda/envs/openmmlab/lib/python3.8/site-packages/mmcv/image/__init__.py:2\u001b[0m\n\u001b[1;32m      1\u001b[0m \u001b[39m# Copyright (c) OpenMMLab. All rights reserved.\u001b[39;00m\n\u001b[0;32m----> 2\u001b[0m \u001b[39mfrom\u001b[39;00m \u001b[39m.\u001b[39;00m\u001b[39mcolorspace\u001b[39;00m \u001b[39mimport\u001b[39;00m (bgr2gray, bgr2hls, bgr2hsv, bgr2rgb, bgr2ycbcr,\n\u001b[1;32m      3\u001b[0m                          gray2bgr, gray2rgb, hls2bgr, hsv2bgr, imconvert,\n\u001b[1;32m      4\u001b[0m                          rgb2bgr, rgb2gray, rgb2ycbcr, ycbcr2bgr, ycbcr2rgb)\n\u001b[1;32m      5\u001b[0m \u001b[39mfrom\u001b[39;00m \u001b[39m.\u001b[39;00m\u001b[39mgeometric\u001b[39;00m \u001b[39mimport\u001b[39;00m (cutout, imcrop, imflip, imflip_, impad,\n\u001b[1;32m      6\u001b[0m                         impad_to_multiple, imrescale, imresize, imresize_like,\n\u001b[1;32m      7\u001b[0m                         imresize_to_multiple, imrotate, imshear, imtranslate,\n\u001b[1;32m      8\u001b[0m                         rescale_size)\n\u001b[1;32m      9\u001b[0m \u001b[39mfrom\u001b[39;00m \u001b[39m.\u001b[39;00m\u001b[39mio\u001b[39;00m \u001b[39mimport\u001b[39;00m imfrombytes, imread, imwrite, supported_backends, use_backend\n",
      "File \u001b[0;32m/opt/conda/envs/openmmlab/lib/python3.8/site-packages/mmcv/image/colorspace.py:4\u001b[0m\n\u001b[1;32m      1\u001b[0m \u001b[39m# Copyright (c) OpenMMLab. All rights reserved.\u001b[39;00m\n\u001b[1;32m      2\u001b[0m \u001b[39mfrom\u001b[39;00m \u001b[39mtyping\u001b[39;00m \u001b[39mimport\u001b[39;00m Callable, Union\n\u001b[0;32m----> 4\u001b[0m \u001b[39mimport\u001b[39;00m \u001b[39mcv2\u001b[39;00m\n\u001b[1;32m      5\u001b[0m \u001b[39mimport\u001b[39;00m \u001b[39mnumpy\u001b[39;00m \u001b[39mas\u001b[39;00m \u001b[39mnp\u001b[39;00m\n\u001b[1;32m      8\u001b[0m \u001b[39mdef\u001b[39;00m \u001b[39mimconvert\u001b[39m(img: np\u001b[39m.\u001b[39mndarray, src: \u001b[39mstr\u001b[39m, dst: \u001b[39mstr\u001b[39m) \u001b[39m-\u001b[39m\u001b[39m>\u001b[39m np\u001b[39m.\u001b[39mndarray:\n",
      "File \u001b[0;32m/opt/conda/envs/openmmlab/lib/python3.8/site-packages/cv2/__init__.py:181\u001b[0m\n\u001b[1;32m    176\u001b[0m             \u001b[39mif\u001b[39;00m DEBUG: \u001b[39mprint\u001b[39m(\u001b[39m\"\u001b[39m\u001b[39mExtra Python code for\u001b[39m\u001b[39m\"\u001b[39m, submodule, \u001b[39m\"\u001b[39m\u001b[39mis loaded\u001b[39m\u001b[39m\"\u001b[39m)\n\u001b[1;32m    178\u001b[0m     \u001b[39mif\u001b[39;00m DEBUG: \u001b[39mprint\u001b[39m(\u001b[39m'\u001b[39m\u001b[39mOpenCV loader: DONE\u001b[39m\u001b[39m'\u001b[39m)\n\u001b[0;32m--> 181\u001b[0m bootstrap()\n",
      "File \u001b[0;32m/opt/conda/envs/openmmlab/lib/python3.8/site-packages/cv2/__init__.py:153\u001b[0m, in \u001b[0;36mbootstrap\u001b[0;34m()\u001b[0m\n\u001b[1;32m    149\u001b[0m \u001b[39mif\u001b[39;00m DEBUG: \u001b[39mprint\u001b[39m(\u001b[39m\"\u001b[39m\u001b[39mRelink everything from native cv2 module to cv2 package\u001b[39m\u001b[39m\"\u001b[39m)\n\u001b[1;32m    151\u001b[0m py_module \u001b[39m=\u001b[39m sys\u001b[39m.\u001b[39mmodules\u001b[39m.\u001b[39mpop(\u001b[39m\"\u001b[39m\u001b[39mcv2\u001b[39m\u001b[39m\"\u001b[39m)\n\u001b[0;32m--> 153\u001b[0m native_module \u001b[39m=\u001b[39m importlib\u001b[39m.\u001b[39;49mimport_module(\u001b[39m\"\u001b[39;49m\u001b[39mcv2\u001b[39;49m\u001b[39m\"\u001b[39;49m)\n\u001b[1;32m    155\u001b[0m sys\u001b[39m.\u001b[39mmodules[\u001b[39m\"\u001b[39m\u001b[39mcv2\u001b[39m\u001b[39m\"\u001b[39m] \u001b[39m=\u001b[39m py_module\n\u001b[1;32m    156\u001b[0m \u001b[39msetattr\u001b[39m(py_module, \u001b[39m\"\u001b[39m\u001b[39m_native\u001b[39m\u001b[39m\"\u001b[39m, native_module)\n",
      "File \u001b[0;32m/opt/conda/envs/openmmlab/lib/python3.8/importlib/__init__.py:127\u001b[0m, in \u001b[0;36mimport_module\u001b[0;34m(name, package)\u001b[0m\n\u001b[1;32m    125\u001b[0m             \u001b[39mbreak\u001b[39;00m\n\u001b[1;32m    126\u001b[0m         level \u001b[39m+\u001b[39m\u001b[39m=\u001b[39m \u001b[39m1\u001b[39m\n\u001b[0;32m--> 127\u001b[0m \u001b[39mreturn\u001b[39;00m _bootstrap\u001b[39m.\u001b[39;49m_gcd_import(name[level:], package, level)\n",
      "\u001b[0;31mImportError\u001b[0m: libGL.so.1: cannot open shared object file: No such file or directory"
     ]
    }
   ],
   "source": [
    "import torch, torchvision\n",
    "print(torch.__version__, torch.cuda.is_available())\n",
    "\n",
    "import mmseg\n",
    "print(mmseg.__version__)\n",
    "\n",
    "import mmcv\n",
    "import mmengine\n",
    "from mmseg.registry import DATASETS\n",
    "from mmseg.datasets import BaseSegDataset\n",
    "import matplotlib.pyplot as plt\n",
    "import matplotlib.patches as mpatches\n",
    "import os.path as osp\n",
    "import numpy as np\n",
    "from PIL import Image\n",
    "\n",
    "import os\n",
    "os.environ['CUDA_LAUNCH_BLOCKING'] = \"1\"\n",
    "os.environ['TORCH_USE_CUDA_DSA'] = '1'"
   ]
  },
  {
   "cell_type": "code",
   "execution_count": null,
   "metadata": {},
   "outputs": [],
   "source": []
  }
 ],
 "metadata": {
  "kernelspec": {
   "display_name": "openmmlab",
   "language": "python",
   "name": "python3"
  },
  "language_info": {
   "codemirror_mode": {
    "name": "ipython",
    "version": 3
   },
   "file_extension": ".py",
   "mimetype": "text/x-python",
   "name": "python",
   "nbconvert_exporter": "python",
   "pygments_lexer": "ipython3",
   "version": "3.8.18"
  }
 },
 "nbformat": 4,
 "nbformat_minor": 2
}
