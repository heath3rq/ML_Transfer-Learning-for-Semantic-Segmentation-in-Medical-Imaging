{
 "cells": [
  {
   "cell_type": "code",
   "execution_count": 1,
   "metadata": {},
   "outputs": [
    {
     "name": "stdout",
     "output_type": "stream",
     "text": [
      "Requirement already satisfied: openmim in /opt/conda/envs/openmmlab/lib/python3.8/site-packages (0.3.9)\n",
      "Requirement already satisfied: Click in /opt/conda/envs/openmmlab/lib/python3.8/site-packages (from openmim) (8.1.7)\n",
      "Requirement already satisfied: colorama in /opt/conda/envs/openmmlab/lib/python3.8/site-packages (from openmim) (0.4.6)\n",
      "Requirement already satisfied: model-index in /opt/conda/envs/openmmlab/lib/python3.8/site-packages (from openmim) (0.1.11)\n",
      "Requirement already satisfied: opendatalab in /opt/conda/envs/openmmlab/lib/python3.8/site-packages (from openmim) (0.0.10)\n",
      "Requirement already satisfied: pandas in /opt/conda/envs/openmmlab/lib/python3.8/site-packages (from openmim) (2.0.3)\n",
      "Requirement already satisfied: pip>=19.3 in /opt/conda/envs/openmmlab/lib/python3.8/site-packages (from openmim) (23.3.1)\n",
      "Requirement already satisfied: requests in /opt/conda/envs/openmmlab/lib/python3.8/site-packages (from openmim) (2.28.2)\n",
      "Requirement already satisfied: rich in /opt/conda/envs/openmmlab/lib/python3.8/site-packages (from openmim) (13.4.2)\n",
      "Requirement already satisfied: tabulate in /opt/conda/envs/openmmlab/lib/python3.8/site-packages (from openmim) (0.9.0)\n",
      "Requirement already satisfied: pyyaml in /opt/conda/envs/openmmlab/lib/python3.8/site-packages (from model-index->openmim) (6.0.1)\n",
      "Requirement already satisfied: markdown in /opt/conda/envs/openmmlab/lib/python3.8/site-packages (from model-index->openmim) (3.5.1)\n",
      "Requirement already satisfied: ordered-set in /opt/conda/envs/openmmlab/lib/python3.8/site-packages (from model-index->openmim) (4.1.0)\n",
      "Requirement already satisfied: pycryptodome in /opt/conda/envs/openmmlab/lib/python3.8/site-packages (from opendatalab->openmim) (3.19.0)\n",
      "Requirement already satisfied: tqdm in /opt/conda/envs/openmmlab/lib/python3.8/site-packages (from opendatalab->openmim) (4.65.2)\n",
      "Requirement already satisfied: openxlab in /opt/conda/envs/openmmlab/lib/python3.8/site-packages (from opendatalab->openmim) (0.0.31)\n",
      "Requirement already satisfied: charset-normalizer<4,>=2 in /opt/conda/envs/openmmlab/lib/python3.8/site-packages (from requests->openmim) (3.1.0)\n",
      "Requirement already satisfied: idna<4,>=2.5 in /opt/conda/envs/openmmlab/lib/python3.8/site-packages (from requests->openmim) (3.4)\n",
      "Requirement already satisfied: urllib3<1.27,>=1.21.1 in /opt/conda/envs/openmmlab/lib/python3.8/site-packages (from requests->openmim) (1.26.18)\n",
      "Requirement already satisfied: certifi>=2017.4.17 in /opt/conda/envs/openmmlab/lib/python3.8/site-packages (from requests->openmim) (2023.11.17)\n",
      "Requirement already satisfied: python-dateutil>=2.8.2 in /opt/conda/envs/openmmlab/lib/python3.8/site-packages (from pandas->openmim) (2.8.2)\n",
      "Requirement already satisfied: pytz>=2020.1 in /opt/conda/envs/openmmlab/lib/python3.8/site-packages (from pandas->openmim) (2023.3.post1)\n",
      "Requirement already satisfied: tzdata>=2022.1 in /opt/conda/envs/openmmlab/lib/python3.8/site-packages (from pandas->openmim) (2023.3)\n",
      "Requirement already satisfied: numpy>=1.20.3 in /opt/conda/envs/openmmlab/lib/python3.8/site-packages (from pandas->openmim) (1.24.3)\n",
      "Requirement already satisfied: markdown-it-py>=2.2.0 in /opt/conda/envs/openmmlab/lib/python3.8/site-packages (from rich->openmim) (2.2.0)\n",
      "Requirement already satisfied: pygments<3.0.0,>=2.13.0 in /opt/conda/envs/openmmlab/lib/python3.8/site-packages (from rich->openmim) (2.17.2)\n",
      "Requirement already satisfied: typing-extensions<5.0,>=4.0.0 in /opt/conda/envs/openmmlab/lib/python3.8/site-packages (from rich->openmim) (4.9.0)\n",
      "Requirement already satisfied: mdurl~=0.1 in /opt/conda/envs/openmmlab/lib/python3.8/site-packages (from markdown-it-py>=2.2.0->rich->openmim) (0.1.0)\n",
      "Requirement already satisfied: six>=1.5 in /opt/conda/envs/openmmlab/lib/python3.8/site-packages (from python-dateutil>=2.8.2->pandas->openmim) (1.16.0)\n",
      "Requirement already satisfied: importlib-metadata>=4.4 in /opt/conda/envs/openmmlab/lib/python3.8/site-packages (from markdown->model-index->openmim) (7.0.0)\n",
      "Requirement already satisfied: oss2~=2.17.0 in /opt/conda/envs/openmmlab/lib/python3.8/site-packages (from openxlab->opendatalab->openmim) (2.17.0)\n",
      "Requirement already satisfied: setuptools~=60.2.0 in /opt/conda/envs/openmmlab/lib/python3.8/site-packages (from openxlab->opendatalab->openmim) (60.2.0)\n",
      "Requirement already satisfied: zipp>=0.5 in /opt/conda/envs/openmmlab/lib/python3.8/site-packages (from importlib-metadata>=4.4->markdown->model-index->openmim) (3.17.0)\n",
      "Requirement already satisfied: crcmod>=1.7 in /opt/conda/envs/openmmlab/lib/python3.8/site-packages (from oss2~=2.17.0->openxlab->opendatalab->openmim) (1.7)\n",
      "Requirement already satisfied: aliyun-python-sdk-kms>=2.4.1 in /opt/conda/envs/openmmlab/lib/python3.8/site-packages (from oss2~=2.17.0->openxlab->opendatalab->openmim) (2.16.2)\n",
      "Requirement already satisfied: aliyun-python-sdk-core>=2.13.12 in /opt/conda/envs/openmmlab/lib/python3.8/site-packages (from oss2~=2.17.0->openxlab->opendatalab->openmim) (2.14.0)\n",
      "Requirement already satisfied: jmespath<1.0.0,>=0.9.3 in /opt/conda/envs/openmmlab/lib/python3.8/site-packages (from aliyun-python-sdk-core>=2.13.12->oss2~=2.17.0->openxlab->opendatalab->openmim) (0.10.0)\n",
      "Requirement already satisfied: cryptography>=2.6.0 in /opt/conda/envs/openmmlab/lib/python3.8/site-packages (from aliyun-python-sdk-core>=2.13.12->oss2~=2.17.0->openxlab->opendatalab->openmim) (41.0.7)\n",
      "Requirement already satisfied: cffi>=1.12 in /opt/conda/envs/openmmlab/lib/python3.8/site-packages (from cryptography>=2.6.0->aliyun-python-sdk-core>=2.13.12->oss2~=2.17.0->openxlab->opendatalab->openmim) (1.16.0)\n",
      "Requirement already satisfied: pycparser in /opt/conda/envs/openmmlab/lib/python3.8/site-packages (from cffi>=1.12->cryptography>=2.6.0->aliyun-python-sdk-core>=2.13.12->oss2~=2.17.0->openxlab->opendatalab->openmim) (2.21)\n",
      "Looking in links: https://download.openmmlab.com/mmcv/dist/cu112/torch1.13.0/index.html\n",
      "Requirement already satisfied: mmengine in /opt/conda/envs/openmmlab/lib/python3.8/site-packages (0.10.1)\n",
      "Requirement already satisfied: addict in /opt/conda/envs/openmmlab/lib/python3.8/site-packages (from mmengine) (2.4.0)\n",
      "Requirement already satisfied: matplotlib in /opt/conda/envs/openmmlab/lib/python3.8/site-packages (from mmengine) (3.7.2)\n",
      "Requirement already satisfied: numpy in /opt/conda/envs/openmmlab/lib/python3.8/site-packages (from mmengine) (1.24.3)\n",
      "Requirement already satisfied: pyyaml in /opt/conda/envs/openmmlab/lib/python3.8/site-packages (from mmengine) (6.0.1)\n",
      "Requirement already satisfied: rich in /opt/conda/envs/openmmlab/lib/python3.8/site-packages (from mmengine) (13.4.2)\n",
      "Requirement already satisfied: termcolor in /opt/conda/envs/openmmlab/lib/python3.8/site-packages (from mmengine) (2.1.0)\n",
      "Requirement already satisfied: yapf in /opt/conda/envs/openmmlab/lib/python3.8/site-packages (from mmengine) (0.31.0)\n",
      "Requirement already satisfied: opencv-python>=3 in /opt/conda/envs/openmmlab/lib/python3.8/site-packages (from mmengine) (4.7.0)\n",
      "Requirement already satisfied: contourpy>=1.0.1 in /opt/conda/envs/openmmlab/lib/python3.8/site-packages (from matplotlib->mmengine) (1.0.5)\n",
      "Requirement already satisfied: cycler>=0.10 in /opt/conda/envs/openmmlab/lib/python3.8/site-packages (from matplotlib->mmengine) (0.11.0)\n",
      "Requirement already satisfied: fonttools>=4.22.0 in /opt/conda/envs/openmmlab/lib/python3.8/site-packages (from matplotlib->mmengine) (4.25.0)\n",
      "Requirement already satisfied: kiwisolver>=1.0.1 in /opt/conda/envs/openmmlab/lib/python3.8/site-packages (from matplotlib->mmengine) (1.4.4)\n",
      "Requirement already satisfied: packaging>=20.0 in /opt/conda/envs/openmmlab/lib/python3.8/site-packages (from matplotlib->mmengine) (23.2)\n",
      "Requirement already satisfied: pillow>=6.2.0 in /opt/conda/envs/openmmlab/lib/python3.8/site-packages (from matplotlib->mmengine) (10.0.0)\n",
      "Requirement already satisfied: pyparsing<3.1,>=2.3.1 in /opt/conda/envs/openmmlab/lib/python3.8/site-packages (from matplotlib->mmengine) (3.0.9)\n",
      "Requirement already satisfied: python-dateutil>=2.7 in /opt/conda/envs/openmmlab/lib/python3.8/site-packages (from matplotlib->mmengine) (2.8.2)\n",
      "Requirement already satisfied: importlib-resources>=3.2.0 in /opt/conda/envs/openmmlab/lib/python3.8/site-packages (from matplotlib->mmengine) (6.1.0)\n",
      "Requirement already satisfied: markdown-it-py>=2.2.0 in /opt/conda/envs/openmmlab/lib/python3.8/site-packages (from rich->mmengine) (2.2.0)\n",
      "Requirement already satisfied: pygments<3.0.0,>=2.13.0 in /opt/conda/envs/openmmlab/lib/python3.8/site-packages (from rich->mmengine) (2.17.2)\n",
      "Requirement already satisfied: typing-extensions<5.0,>=4.0.0 in /opt/conda/envs/openmmlab/lib/python3.8/site-packages (from rich->mmengine) (4.9.0)\n",
      "Requirement already satisfied: zipp>=3.1.0 in /opt/conda/envs/openmmlab/lib/python3.8/site-packages (from importlib-resources>=3.2.0->matplotlib->mmengine) (3.17.0)\n",
      "Requirement already satisfied: mdurl~=0.1 in /opt/conda/envs/openmmlab/lib/python3.8/site-packages (from markdown-it-py>=2.2.0->rich->mmengine) (0.1.0)\n",
      "Requirement already satisfied: six>=1.5 in /opt/conda/envs/openmmlab/lib/python3.8/site-packages (from python-dateutil>=2.7->matplotlib->mmengine) (1.16.0)\n",
      "Looking in links: https://download.openmmlab.com/mmcv/dist/cu111/torch1.9/index.html\n",
      "Requirement already satisfied: mmcv==2.0.0rc4 in /opt/conda/envs/openmmlab/lib/python3.8/site-packages (2.0.0rc4)\n",
      "Requirement already satisfied: addict in /opt/conda/envs/openmmlab/lib/python3.8/site-packages (from mmcv==2.0.0rc4) (2.4.0)\n",
      "Requirement already satisfied: mmengine>=0.2.0 in /opt/conda/envs/openmmlab/lib/python3.8/site-packages (from mmcv==2.0.0rc4) (0.10.1)\n",
      "Requirement already satisfied: numpy in /opt/conda/envs/openmmlab/lib/python3.8/site-packages (from mmcv==2.0.0rc4) (1.24.3)\n",
      "Requirement already satisfied: packaging in /opt/conda/envs/openmmlab/lib/python3.8/site-packages (from mmcv==2.0.0rc4) (23.2)\n",
      "Requirement already satisfied: Pillow in /opt/conda/envs/openmmlab/lib/python3.8/site-packages (from mmcv==2.0.0rc4) (10.0.0)\n",
      "Requirement already satisfied: pyyaml in /opt/conda/envs/openmmlab/lib/python3.8/site-packages (from mmcv==2.0.0rc4) (6.0.1)\n",
      "Requirement already satisfied: yapf in /opt/conda/envs/openmmlab/lib/python3.8/site-packages (from mmcv==2.0.0rc4) (0.31.0)\n",
      "Requirement already satisfied: opencv-python>=3 in /opt/conda/envs/openmmlab/lib/python3.8/site-packages (from mmcv==2.0.0rc4) (4.7.0)\n",
      "Requirement already satisfied: matplotlib in /opt/conda/envs/openmmlab/lib/python3.8/site-packages (from mmengine>=0.2.0->mmcv==2.0.0rc4) (3.7.2)\n",
      "Requirement already satisfied: rich in /opt/conda/envs/openmmlab/lib/python3.8/site-packages (from mmengine>=0.2.0->mmcv==2.0.0rc4) (13.4.2)\n",
      "Requirement already satisfied: termcolor in /opt/conda/envs/openmmlab/lib/python3.8/site-packages (from mmengine>=0.2.0->mmcv==2.0.0rc4) (2.1.0)\n",
      "Requirement already satisfied: contourpy>=1.0.1 in /opt/conda/envs/openmmlab/lib/python3.8/site-packages (from matplotlib->mmengine>=0.2.0->mmcv==2.0.0rc4) (1.0.5)\n",
      "Requirement already satisfied: cycler>=0.10 in /opt/conda/envs/openmmlab/lib/python3.8/site-packages (from matplotlib->mmengine>=0.2.0->mmcv==2.0.0rc4) (0.11.0)\n",
      "Requirement already satisfied: fonttools>=4.22.0 in /opt/conda/envs/openmmlab/lib/python3.8/site-packages (from matplotlib->mmengine>=0.2.0->mmcv==2.0.0rc4) (4.25.0)\n",
      "Requirement already satisfied: kiwisolver>=1.0.1 in /opt/conda/envs/openmmlab/lib/python3.8/site-packages (from matplotlib->mmengine>=0.2.0->mmcv==2.0.0rc4) (1.4.4)\n",
      "Requirement already satisfied: pyparsing<3.1,>=2.3.1 in /opt/conda/envs/openmmlab/lib/python3.8/site-packages (from matplotlib->mmengine>=0.2.0->mmcv==2.0.0rc4) (3.0.9)\n",
      "Requirement already satisfied: python-dateutil>=2.7 in /opt/conda/envs/openmmlab/lib/python3.8/site-packages (from matplotlib->mmengine>=0.2.0->mmcv==2.0.0rc4) (2.8.2)\n",
      "Requirement already satisfied: importlib-resources>=3.2.0 in /opt/conda/envs/openmmlab/lib/python3.8/site-packages (from matplotlib->mmengine>=0.2.0->mmcv==2.0.0rc4) (6.1.0)\n",
      "Requirement already satisfied: markdown-it-py>=2.2.0 in /opt/conda/envs/openmmlab/lib/python3.8/site-packages (from rich->mmengine>=0.2.0->mmcv==2.0.0rc4) (2.2.0)\n",
      "Requirement already satisfied: pygments<3.0.0,>=2.13.0 in /opt/conda/envs/openmmlab/lib/python3.8/site-packages (from rich->mmengine>=0.2.0->mmcv==2.0.0rc4) (2.17.2)\n",
      "Requirement already satisfied: typing-extensions<5.0,>=4.0.0 in /opt/conda/envs/openmmlab/lib/python3.8/site-packages (from rich->mmengine>=0.2.0->mmcv==2.0.0rc4) (4.9.0)\n",
      "Requirement already satisfied: zipp>=3.1.0 in /opt/conda/envs/openmmlab/lib/python3.8/site-packages (from importlib-resources>=3.2.0->matplotlib->mmengine>=0.2.0->mmcv==2.0.0rc4) (3.17.0)\n",
      "Requirement already satisfied: mdurl~=0.1 in /opt/conda/envs/openmmlab/lib/python3.8/site-packages (from markdown-it-py>=2.2.0->rich->mmengine>=0.2.0->mmcv==2.0.0rc4) (0.1.0)\n",
      "Requirement already satisfied: six>=1.5 in /opt/conda/envs/openmmlab/lib/python3.8/site-packages (from python-dateutil>=2.7->matplotlib->mmengine>=0.2.0->mmcv==2.0.0rc4) (1.16.0)\n",
      "Cloning into 'mmsegmentation'...\n",
      "remote: Enumerating objects: 16316, done.\u001b[K\n",
      "remote: Counting objects: 100% (27/27), done.\u001b[K\n",
      "remote: Compressing objects: 100% (27/27), done.\u001b[K\n",
      "remote: Total 16316 (delta 4), reused 16 (delta 0), pack-reused 16289\u001b[K\n",
      "Receiving objects: 100% (16316/16316), 22.80 MiB | 47.94 MiB/s, done.\n",
      "Resolving deltas: 100% (11374/11374), done.\n",
      "/workspaces/ECE661GroupProject_TransferLearning/mmsegmentation\n",
      "Obtaining file:///workspaces/ECE661GroupProject_TransferLearning/mmsegmentation\n",
      "  Preparing metadata (setup.py) ... \u001b[?25ldone\n",
      "\u001b[?25hRequirement already satisfied: matplotlib in /opt/conda/envs/openmmlab/lib/python3.8/site-packages (from mmsegmentation==1.2.1) (3.7.2)\n",
      "Requirement already satisfied: numpy in /opt/conda/envs/openmmlab/lib/python3.8/site-packages (from mmsegmentation==1.2.1) (1.24.3)\n",
      "Requirement already satisfied: packaging in /opt/conda/envs/openmmlab/lib/python3.8/site-packages (from mmsegmentation==1.2.1) (23.2)\n",
      "Requirement already satisfied: prettytable in /opt/conda/envs/openmmlab/lib/python3.8/site-packages (from mmsegmentation==1.2.1) (3.5.0)\n",
      "Requirement already satisfied: scipy in /opt/conda/envs/openmmlab/lib/python3.8/site-packages (from mmsegmentation==1.2.1) (1.10.1)\n",
      "Requirement already satisfied: contourpy>=1.0.1 in /opt/conda/envs/openmmlab/lib/python3.8/site-packages (from matplotlib->mmsegmentation==1.2.1) (1.0.5)\n",
      "Requirement already satisfied: cycler>=0.10 in /opt/conda/envs/openmmlab/lib/python3.8/site-packages (from matplotlib->mmsegmentation==1.2.1) (0.11.0)\n",
      "Requirement already satisfied: fonttools>=4.22.0 in /opt/conda/envs/openmmlab/lib/python3.8/site-packages (from matplotlib->mmsegmentation==1.2.1) (4.25.0)\n",
      "Requirement already satisfied: kiwisolver>=1.0.1 in /opt/conda/envs/openmmlab/lib/python3.8/site-packages (from matplotlib->mmsegmentation==1.2.1) (1.4.4)\n",
      "Requirement already satisfied: pillow>=6.2.0 in /opt/conda/envs/openmmlab/lib/python3.8/site-packages (from matplotlib->mmsegmentation==1.2.1) (10.0.0)\n",
      "Requirement already satisfied: pyparsing<3.1,>=2.3.1 in /opt/conda/envs/openmmlab/lib/python3.8/site-packages (from matplotlib->mmsegmentation==1.2.1) (3.0.9)\n",
      "Requirement already satisfied: python-dateutil>=2.7 in /opt/conda/envs/openmmlab/lib/python3.8/site-packages (from matplotlib->mmsegmentation==1.2.1) (2.8.2)\n",
      "Requirement already satisfied: importlib-resources>=3.2.0 in /opt/conda/envs/openmmlab/lib/python3.8/site-packages (from matplotlib->mmsegmentation==1.2.1) (6.1.0)\n",
      "Requirement already satisfied: wcwidth in /opt/conda/envs/openmmlab/lib/python3.8/site-packages (from prettytable->mmsegmentation==1.2.1) (0.2.12)\n",
      "Requirement already satisfied: zipp>=3.1.0 in /opt/conda/envs/openmmlab/lib/python3.8/site-packages (from importlib-resources>=3.2.0->matplotlib->mmsegmentation==1.2.1) (3.17.0)\n",
      "Requirement already satisfied: six>=1.5 in /opt/conda/envs/openmmlab/lib/python3.8/site-packages (from python-dateutil>=2.7->matplotlib->mmsegmentation==1.2.1) (1.16.0)\n",
      "Installing collected packages: mmsegmentation\n",
      "  Running setup.py develop for mmsegmentation\n",
      "Successfully installed mmsegmentation-1.2.1\n"
     ]
    },
    {
     "name": "stderr",
     "output_type": "stream",
     "text": [
      "/opt/conda/envs/openmmlab/lib/python3.8/site-packages/tqdm/auto.py:21: TqdmWarning: IProgress not found. Please update jupyter and ipywidgets. See https://ipywidgets.readthedocs.io/en/stable/user_install.html\n",
      "  from .autonotebook import tqdm as notebook_tqdm\n"
     ]
    },
    {
     "name": "stdout",
     "output_type": "stream",
     "text": [
      "1.2.1\n"
     ]
    }
   ],
   "source": [
    "!pip3 install openmim\n",
    "!mim install mmengine\n",
    "!pip install mmcv==2.0.0rc4 -f https://download.openmmlab.com/mmcv/dist/cu111/torch1.9/index.html\n",
    "\n",
    "!rm -rf mmsegmentation\n",
    "!git clone https://github.com/open-mmlab/mmsegmentation.git \n",
    "%cd mmsegmentation\n",
    "!pip install -e .\n",
    "import mmseg\n",
    "print(mmseg.__version__)"
   ]
  },
  {
   "cell_type": "code",
   "execution_count": 5,
   "metadata": {},
   "outputs": [
    {
     "name": "stdout",
     "output_type": "stream",
     "text": [
      "1.13.1.post200 True\n"
     ]
    },
    {
     "ename": "ImportError",
     "evalue": "cannot import name 'point_sample' from 'mmcv.ops' (unknown location)",
     "output_type": "error",
     "traceback": [
      "\u001b[0;31m---------------------------------------------------------------------------\u001b[0m",
      "\u001b[0;31mImportError\u001b[0m                               Traceback (most recent call last)",
      "Cell \u001b[0;32mIn[5], line 11\u001b[0m\n\u001b[1;32m      9\u001b[0m \u001b[38;5;28;01mimport\u001b[39;00m \u001b[38;5;21;01mmmengine\u001b[39;00m\n\u001b[1;32m     10\u001b[0m \u001b[38;5;28;01mfrom\u001b[39;00m \u001b[38;5;21;01mmmseg\u001b[39;00m\u001b[38;5;21;01m.\u001b[39;00m\u001b[38;5;21;01mregistry\u001b[39;00m \u001b[38;5;28;01mimport\u001b[39;00m DATASETS\n\u001b[0;32m---> 11\u001b[0m \u001b[38;5;28;01mfrom\u001b[39;00m \u001b[38;5;21;01mmmseg\u001b[39;00m\u001b[38;5;21;01m.\u001b[39;00m\u001b[38;5;21;01mdatasets\u001b[39;00m \u001b[38;5;28;01mimport\u001b[39;00m BaseSegDataset\n\u001b[1;32m     12\u001b[0m \u001b[38;5;28;01mimport\u001b[39;00m \u001b[38;5;21;01mmatplotlib\u001b[39;00m\u001b[38;5;21;01m.\u001b[39;00m\u001b[38;5;21;01mpyplot\u001b[39;00m \u001b[38;5;28;01mas\u001b[39;00m \u001b[38;5;21;01mplt\u001b[39;00m\n\u001b[1;32m     13\u001b[0m \u001b[38;5;28;01mimport\u001b[39;00m \u001b[38;5;21;01mmatplotlib\u001b[39;00m\u001b[38;5;21;01m.\u001b[39;00m\u001b[38;5;21;01mpatches\u001b[39;00m \u001b[38;5;28;01mas\u001b[39;00m \u001b[38;5;21;01mmpatches\u001b[39;00m\n",
      "File \u001b[0;32m/workspaces/ECE661GroupProject_TransferLearning/mmsegmentation/mmseg/datasets/__init__.py:29\u001b[0m\n\u001b[1;32m     27\u001b[0m \u001b[38;5;28;01mfrom\u001b[39;00m \u001b[38;5;21;01m.\u001b[39;00m\u001b[38;5;21;01msynapse\u001b[39;00m \u001b[38;5;28;01mimport\u001b[39;00m SynapseDataset\n\u001b[1;32m     28\u001b[0m \u001b[38;5;66;03m# yapf: disable\u001b[39;00m\n\u001b[0;32m---> 29\u001b[0m \u001b[38;5;28;01mfrom\u001b[39;00m \u001b[38;5;21;01m.\u001b[39;00m\u001b[38;5;21;01mtransforms\u001b[39;00m \u001b[38;5;28;01mimport\u001b[39;00m (CLAHE, AdjustGamma, Albu, BioMedical3DPad,\n\u001b[1;32m     30\u001b[0m                          BioMedical3DRandomCrop, BioMedical3DRandomFlip,\n\u001b[1;32m     31\u001b[0m                          BioMedicalGaussianBlur, BioMedicalGaussianNoise,\n\u001b[1;32m     32\u001b[0m                          BioMedicalRandomGamma, ConcatCDInput, GenerateEdge,\n\u001b[1;32m     33\u001b[0m                          LoadAnnotations, LoadBiomedicalAnnotation,\n\u001b[1;32m     34\u001b[0m                          LoadBiomedicalData, LoadBiomedicalImageFromFile,\n\u001b[1;32m     35\u001b[0m                          LoadImageFromNDArray, LoadMultipleRSImageFromFile,\n\u001b[1;32m     36\u001b[0m                          LoadSingleRSImageFromFile, PackSegInputs,\n\u001b[1;32m     37\u001b[0m                          PhotoMetricDistortion, RandomCrop, RandomCutOut,\n\u001b[1;32m     38\u001b[0m                          RandomMosaic, RandomRotate, RandomRotFlip, Rerange,\n\u001b[1;32m     39\u001b[0m                          ResizeShortestEdge, ResizeToMultiple, RGB2Gray,\n\u001b[1;32m     40\u001b[0m                          SegRescale)\n\u001b[1;32m     41\u001b[0m \u001b[38;5;28;01mfrom\u001b[39;00m \u001b[38;5;21;01m.\u001b[39;00m\u001b[38;5;21;01mvoc\u001b[39;00m \u001b[38;5;28;01mimport\u001b[39;00m PascalVOCDataset\n\u001b[1;32m     43\u001b[0m \u001b[38;5;66;03m# yapf: enable\u001b[39;00m\n",
      "File \u001b[0;32m/workspaces/ECE661GroupProject_TransferLearning/mmsegmentation/mmseg/datasets/transforms/__init__.py:3\u001b[0m\n\u001b[1;32m      1\u001b[0m \u001b[38;5;66;03m# Copyright (c) OpenMMLab. All rights reserved.\u001b[39;00m\n\u001b[1;32m      2\u001b[0m \u001b[38;5;28;01mfrom\u001b[39;00m \u001b[38;5;21;01m.\u001b[39;00m\u001b[38;5;21;01mformatting\u001b[39;00m \u001b[38;5;28;01mimport\u001b[39;00m PackSegInputs\n\u001b[0;32m----> 3\u001b[0m \u001b[38;5;28;01mfrom\u001b[39;00m \u001b[38;5;21;01m.\u001b[39;00m\u001b[38;5;21;01mloading\u001b[39;00m \u001b[38;5;28;01mimport\u001b[39;00m (LoadAnnotations, LoadBiomedicalAnnotation,\n\u001b[1;32m      4\u001b[0m                       LoadBiomedicalData, LoadBiomedicalImageFromFile,\n\u001b[1;32m      5\u001b[0m                       LoadDepthAnnotation, LoadImageFromNDArray,\n\u001b[1;32m      6\u001b[0m                       LoadMultipleRSImageFromFile, LoadSingleRSImageFromFile)\n\u001b[1;32m      7\u001b[0m \u001b[38;5;66;03m# yapf: disable\u001b[39;00m\n\u001b[1;32m      8\u001b[0m \u001b[38;5;28;01mfrom\u001b[39;00m \u001b[38;5;21;01m.\u001b[39;00m\u001b[38;5;21;01mtransforms\u001b[39;00m \u001b[38;5;28;01mimport\u001b[39;00m (CLAHE, AdjustGamma, Albu, BioMedical3DPad,\n\u001b[1;32m      9\u001b[0m                          BioMedical3DRandomCrop, BioMedical3DRandomFlip,\n\u001b[1;32m     10\u001b[0m                          BioMedicalGaussianBlur, BioMedicalGaussianNoise,\n\u001b[0;32m   (...)\u001b[0m\n\u001b[1;32m     15\u001b[0m                          ResizeShortestEdge, ResizeToMultiple, RGB2Gray,\n\u001b[1;32m     16\u001b[0m                          SegRescale)\n",
      "File \u001b[0;32m/workspaces/ECE661GroupProject_TransferLearning/mmsegmentation/mmseg/datasets/transforms/loading.py:13\u001b[0m\n\u001b[1;32m     10\u001b[0m \u001b[38;5;28;01mfrom\u001b[39;00m \u001b[38;5;21;01mmmcv\u001b[39;00m\u001b[38;5;21;01m.\u001b[39;00m\u001b[38;5;21;01mtransforms\u001b[39;00m \u001b[38;5;28;01mimport\u001b[39;00m LoadImageFromFile\n\u001b[1;32m     12\u001b[0m \u001b[38;5;28;01mfrom\u001b[39;00m \u001b[38;5;21;01mmmseg\u001b[39;00m\u001b[38;5;21;01m.\u001b[39;00m\u001b[38;5;21;01mregistry\u001b[39;00m \u001b[38;5;28;01mimport\u001b[39;00m TRANSFORMS\n\u001b[0;32m---> 13\u001b[0m \u001b[38;5;28;01mfrom\u001b[39;00m \u001b[38;5;21;01mmmseg\u001b[39;00m\u001b[38;5;21;01m.\u001b[39;00m\u001b[38;5;21;01mutils\u001b[39;00m \u001b[38;5;28;01mimport\u001b[39;00m datafrombytes\n\u001b[1;32m     15\u001b[0m \u001b[38;5;28;01mtry\u001b[39;00m:\n\u001b[1;32m     16\u001b[0m     \u001b[38;5;28;01mfrom\u001b[39;00m \u001b[38;5;21;01mosgeo\u001b[39;00m \u001b[38;5;28;01mimport\u001b[39;00m gdal\n",
      "File \u001b[0;32m/workspaces/ECE661GroupProject_TransferLearning/mmsegmentation/mmseg/utils/__init__.py:24\u001b[0m\n\u001b[1;32m     19\u001b[0m \u001b[38;5;28;01mfrom\u001b[39;00m \u001b[38;5;21;01m.\u001b[39;00m\u001b[38;5;21;01mtyping_utils\u001b[39;00m \u001b[38;5;28;01mimport\u001b[39;00m (ConfigType, ForwardResults, MultiConfig,\n\u001b[1;32m     20\u001b[0m                            OptConfigType, OptMultiConfig, OptSampleList,\n\u001b[1;32m     21\u001b[0m                            SampleList, TensorDict, TensorList)\n\u001b[1;32m     23\u001b[0m \u001b[38;5;66;03m# isort: off\u001b[39;00m\n\u001b[0;32m---> 24\u001b[0m \u001b[38;5;28;01mfrom\u001b[39;00m \u001b[38;5;21;01m.\u001b[39;00m\u001b[38;5;21;01mmask_classification\u001b[39;00m \u001b[38;5;28;01mimport\u001b[39;00m MatchMasks, seg_data_to_instance_data\n\u001b[1;32m     26\u001b[0m __all__ \u001b[38;5;241m=\u001b[39m [\n\u001b[1;32m     27\u001b[0m     \u001b[38;5;124m'\u001b[39m\u001b[38;5;124mcollect_env\u001b[39m\u001b[38;5;124m'\u001b[39m,\n\u001b[1;32m     28\u001b[0m     \u001b[38;5;124m'\u001b[39m\u001b[38;5;124mregister_all_modules\u001b[39m\u001b[38;5;124m'\u001b[39m,\n\u001b[0;32m   (...)\u001b[0m\n\u001b[1;32m     69\u001b[0m     \u001b[38;5;124m'\u001b[39m\u001b[38;5;124mbdd100k_palette\u001b[39m\u001b[38;5;124m'\u001b[39m,\n\u001b[1;32m     70\u001b[0m ]\n",
      "File \u001b[0;32m/workspaces/ECE661GroupProject_TransferLearning/mmsegmentation/mmseg/utils/mask_classification.py:5\u001b[0m\n\u001b[1;32m      2\u001b[0m \u001b[38;5;28;01mfrom\u001b[39;00m \u001b[38;5;21;01mtyping\u001b[39;00m \u001b[38;5;28;01mimport\u001b[39;00m List, Tuple\n\u001b[1;32m      4\u001b[0m \u001b[38;5;28;01mimport\u001b[39;00m \u001b[38;5;21;01mtorch\u001b[39;00m\n\u001b[0;32m----> 5\u001b[0m \u001b[38;5;28;01mfrom\u001b[39;00m \u001b[38;5;21;01mmmcv\u001b[39;00m\u001b[38;5;21;01m.\u001b[39;00m\u001b[38;5;21;01mops\u001b[39;00m \u001b[38;5;28;01mimport\u001b[39;00m point_sample\n\u001b[1;32m      6\u001b[0m \u001b[38;5;28;01mfrom\u001b[39;00m \u001b[38;5;21;01mmmengine\u001b[39;00m\u001b[38;5;21;01m.\u001b[39;00m\u001b[38;5;21;01mstructures\u001b[39;00m \u001b[38;5;28;01mimport\u001b[39;00m InstanceData\n\u001b[1;32m      7\u001b[0m \u001b[38;5;28;01mfrom\u001b[39;00m \u001b[38;5;21;01mtorch\u001b[39;00m \u001b[38;5;28;01mimport\u001b[39;00m Tensor\n",
      "\u001b[0;31mImportError\u001b[0m: cannot import name 'point_sample' from 'mmcv.ops' (unknown location)"
     ]
    }
   ],
   "source": [
    "import torch, torchvision\n",
    "print(torch.__version__, torch.cuda.is_available())\n",
    "\n",
    "\n",
    "# import mmseg\n",
    "# print(mmseg.__version__)\n",
    "\n",
    "import mmcv\n",
    "import mmengine\n",
    "from mmseg.registry import DATASETS\n",
    "from mmseg.datasets import BaseSegDataset\n",
    "import matplotlib.pyplot as plt\n",
    "import matplotlib.patches as mpatches\n",
    "import os.path as osp\n",
    "import numpy as np\n",
    "from PIL import Image\n",
    "\n",
    "import os\n",
    "os.environ['CUDA_LAUNCH_BLOCKING'] = \"1\"\n",
    "os.environ['TORCH_USE_CUDA_DSA'] = '1'"
   ]
  },
  {
   "cell_type": "code",
   "execution_count": 3,
   "metadata": {},
   "outputs": [
    {
     "data": {
      "text/plain": [
       "True"
      ]
     },
     "execution_count": 3,
     "metadata": {},
     "output_type": "execute_result"
    }
   ],
   "source": [
    "#!mim download mmsegmentation --config unet-s5-d16_pspnet_4xb4-40k_hrf-256x256 --dest .\n",
    "torch.cuda.is_available() == True"
   ]
  },
  {
   "cell_type": "code",
   "execution_count": null,
   "metadata": {},
   "outputs": [
    {
     "ename": "NameError",
     "evalue": "name 'BaseSegDataset' is not defined",
     "output_type": "error",
     "traceback": [
      "\u001b[0;31m---------------------------------------------------------------------------\u001b[0m",
      "\u001b[0;31mNameError\u001b[0m                                 Traceback (most recent call last)",
      "Cell \u001b[0;32mIn[3], line 8\u001b[0m\n\u001b[1;32m      3\u001b[0m ann_dir \u001b[38;5;241m=\u001b[39m \u001b[38;5;124m'\u001b[39m\u001b[38;5;124mfluid_png\u001b[39m\u001b[38;5;124m'\u001b[39m\n\u001b[1;32m      5\u001b[0m classes \u001b[38;5;241m=\u001b[39m (\u001b[38;5;124m'\u001b[39m\u001b[38;5;124mimage\u001b[39m\u001b[38;5;124m'\u001b[39m, \u001b[38;5;124m'\u001b[39m\u001b[38;5;124mfluid\u001b[39m\u001b[38;5;124m'\u001b[39m)\n\u001b[1;32m      7\u001b[0m \u001b[38;5;129m@DATASETS\u001b[39m\u001b[38;5;241m.\u001b[39mregister_module()\n\u001b[0;32m----> 8\u001b[0m \u001b[38;5;28;01mclass\u001b[39;00m \u001b[38;5;21;01mBOE_Chiu_Dataset\u001b[39;00m(\u001b[43mBaseSegDataset\u001b[49m):\n\u001b[1;32m      9\u001b[0m   CLASSES \u001b[38;5;241m=\u001b[39m classes\n\u001b[1;32m     10\u001b[0m   \u001b[38;5;28;01mdef\u001b[39;00m \u001b[38;5;21m__init__\u001b[39m(\u001b[38;5;28mself\u001b[39m, split, \u001b[38;5;241m*\u001b[39m\u001b[38;5;241m*\u001b[39mkwargs):\n",
      "\u001b[0;31mNameError\u001b[0m: name 'BaseSegDataset' is not defined"
     ]
    }
   ],
   "source": [
    "root = '/workspaces/ECE661GroupProject_TransferLearning/data'\n",
    "img_dir = 'image_png'\n",
    "ann_dir = 'fluid_png'\n",
    "\n",
    "classes = ('image', 'fluid')\n",
    "\n",
    "@DATASETS.register_module()\n",
    "class BOE_Chiu_Dataset(BaseSegDataset):\n",
    "  CLASSES = classes\n",
    "  def __init__(self, split, **kwargs):\n",
    "    super().__init__(img_suffix='.png', seg_map_suffix='.png', \n",
    "                     split=split, **kwargs)\n",
    "    assert osp.exists(self.img_dir) and self.split is not None\n"
   ]
  },
  {
   "cell_type": "code",
   "execution_count": null,
   "metadata": {},
   "outputs": [],
   "source": [
    "from mmcv import Config\n",
    "cfg = Config.fromfile('/workspaces/ECE661GroupProject_TransferLearning/unet-s5-d16_pspnet_4xb4-40k_hrf-256x256.py')"
   ]
  },
  {
   "cell_type": "code",
   "execution_count": null,
   "metadata": {},
   "outputs": [
    {
     "ename": "AssertionError",
     "evalue": "MMCV==1.7.1 is used but incompatible. Please install mmcv>=2.0.0rc4.",
     "output_type": "error",
     "traceback": [
      "\u001b[0;31m---------------------------------------------------------------------------\u001b[0m",
      "\u001b[0;31mAssertionError\u001b[0m                            Traceback (most recent call last)",
      "Cell \u001b[0;32mIn[6], line 1\u001b[0m\n\u001b[0;32m----> 1\u001b[0m \u001b[38;5;28;01mfrom\u001b[39;00m \u001b[38;5;21;01mmmseg\u001b[39;00m\u001b[38;5;21;01m.\u001b[39;00m\u001b[38;5;21;01mapis\u001b[39;00m \u001b[38;5;28;01mimport\u001b[39;00m set_random_seed\n\u001b[1;32m      2\u001b[0m \u001b[38;5;28;01mfrom\u001b[39;00m \u001b[38;5;21;01mmmseg\u001b[39;00m\u001b[38;5;21;01m.\u001b[39;00m\u001b[38;5;21;01mutils\u001b[39;00m \u001b[38;5;28;01mimport\u001b[39;00m get_device\n\u001b[1;32m      4\u001b[0m \u001b[38;5;66;03m# Since we use only one GPU, BN is used instead of SyncBN\u001b[39;00m\n",
      "File \u001b[0;32m/workspaces/ECE661GroupProject_TransferLearning/mmsegmentation/mmseg/__init__.py:61\u001b[0m\n\u001b[1;32m     57\u001b[0m mmcv_max_version \u001b[38;5;241m=\u001b[39m digit_version(MMCV_MAX)\n\u001b[1;32m     58\u001b[0m mmcv_version \u001b[38;5;241m=\u001b[39m digit_version(mmcv\u001b[38;5;241m.\u001b[39m__version__)\n\u001b[0;32m---> 61\u001b[0m \u001b[38;5;28;01massert\u001b[39;00m (mmcv_min_version \u001b[38;5;241m<\u001b[39m\u001b[38;5;241m=\u001b[39m mmcv_version \u001b[38;5;241m<\u001b[39m mmcv_max_version), \\\n\u001b[1;32m     62\u001b[0m     \u001b[38;5;124mf\u001b[39m\u001b[38;5;124m'\u001b[39m\u001b[38;5;124mMMCV==\u001b[39m\u001b[38;5;132;01m{\u001b[39;00mmmcv\u001b[38;5;241m.\u001b[39m__version__\u001b[38;5;132;01m}\u001b[39;00m\u001b[38;5;124m is used but incompatible. \u001b[39m\u001b[38;5;124m'\u001b[39m \\\n\u001b[1;32m     63\u001b[0m     \u001b[38;5;124mf\u001b[39m\u001b[38;5;124m'\u001b[39m\u001b[38;5;124mPlease install mmcv>=2.0.0rc4.\u001b[39m\u001b[38;5;124m'\u001b[39m\n\u001b[1;32m     65\u001b[0m mmengine_min_version \u001b[38;5;241m=\u001b[39m digit_version(MMENGINE_MIN)\n\u001b[1;32m     66\u001b[0m mmengine_max_version \u001b[38;5;241m=\u001b[39m digit_version(MMENGINE_MAX)\n",
      "\u001b[0;31mAssertionError\u001b[0m: MMCV==1.7.1 is used but incompatible. Please install mmcv>=2.0.0rc4."
     ]
    }
   ],
   "source": [
    "from mmseg.apis import set_random_seed\n",
    "from mmseg.utils import get_device\n",
    "\n",
    "# Since we use only one GPU, BN is used instead of SyncBN\n",
    "cfg.norm_cfg = dict(type='BN', requires_grad=True)\n",
    "cfg.model.backbone.norm_cfg = cfg.norm_cfg\n",
    "cfg.model.decode_head.norm_cfg = cfg.norm_cfg\n",
    "cfg.model.auxiliary_head.norm_cfg = cfg.norm_cfg\n",
    "# modify num classes of the model in decode/auxiliary head\n",
    "cfg.model.decode_head.num_classes = 2\n",
    "cfg.model.auxiliary_head.num_classes = 2\n",
    "\n",
    "# Modify dataset type and path\n",
    "cfg.dataset_type = 'BOE_Chiu_Dataset'\n",
    "cfg.data_root = root\n",
    "\n",
    "# cfg.data.samples_per_gpu = 8\n",
    "# cfg.data.workers_per_gpu=8\n",
    "# cfg.crop_size = (256, 256)\n",
    "\n",
    "cfg.train_pipeline = [\n",
    "    dict(type='LoadImageFromFile'),\n",
    "    dict(type='LoadAnnotations'),\n",
    "    dict(type='Resize', scale=(512, 512), keep_ratio=True),\n",
    "    dict(type='PackSegInputs')\n",
    "]\n",
    "\n",
    "cfg.test_pipeline = [\n",
    "    dict(type='LoadImageFromFile'),\n",
    "    dict(type='Resize', scale=(512, 512), keep_ratio=True),\n",
    "    dict(type='LoadAnnotations'),\n",
    "    dict(type='PackSegInputs')\n",
    "]\n",
    "\n",
    "\n",
    "\n",
    "cfg.data.train.type = cfg.dataset_type\n",
    "cfg.data.train.data_root = cfg.data_root\n",
    "cfg.data.train.img_dir = img_dir\n",
    "cfg.data.train.ann_dir = ann_dir\n",
    "cfg.data.train.pipeline = cfg.train_pipeline\n",
    "cfg.data.train.split = 'splits/train.txt'\n",
    "\n",
    "cfg.data.val.type = cfg.dataset_type\n",
    "cfg.data.val.data_root = cfg.data_root\n",
    "cfg.data.val.img_dir = img_dir\n",
    "cfg.data.val.ann_dir = ann_dir\n",
    "cfg.data.val.pipeline = cfg.test_pipeline\n",
    "cfg.data.val.split = 'splits/val.txt'\n",
    "\n",
    "cfg.data.test.type = cfg.dataset_type\n",
    "cfg.data.test.data_root = cfg.data_root\n",
    "cfg.data.test.img_dir = img_dir\n",
    "cfg.data.test.ann_dir = ann_dir\n",
    "cfg.data.test.pipeline = cfg.test_pipeline\n",
    "cfg.data.test.split = 'splits/val.txt'\n",
    "\n",
    "# We can still use the pre-trained Mask RCNN model though we do not need to\n",
    "# use the mask branch\n",
    "cfg.load_from = 'checkpoints/pspnet_r50-d8_512x1024_40k_cityscapes_20200605_003338-2966598c.pth'\n",
    "\n",
    "# Set up working dir to save files and logs.\n",
    "cfg.work_dir = './work_dirs/tutorial'\n",
    "\n",
    "cfg.runner.max_iters = 200\n",
    "cfg.log_config.interval = 10\n",
    "cfg.evaluation.interval = 200\n",
    "cfg.checkpoint_config.interval = 200\n",
    "\n",
    "# Set seed to facitate reproducing the result\n",
    "cfg.seed = 0\n",
    "set_random_seed(0, deterministic=False)\n",
    "cfg.gpu_ids = range(1)\n",
    "cfg.device = get_device()\n",
    "\n",
    "# Let's have a look at the final config used for training\n",
    "print(f'Config:\\n{cfg.pretty_text}')"
   ]
  },
  {
   "cell_type": "code",
   "execution_count": null,
   "metadata": {},
   "outputs": [],
   "source": []
  }
 ],
 "metadata": {
  "kernelspec": {
   "display_name": "openmmlab",
   "language": "python",
   "name": "python3"
  },
  "language_info": {
   "codemirror_mode": {
    "name": "ipython",
    "version": 3
   },
   "file_extension": ".py",
   "mimetype": "text/x-python",
   "name": "python",
   "nbconvert_exporter": "python",
   "pygments_lexer": "ipython3",
   "version": "3.8.18"
  }
 },
 "nbformat": 4,
 "nbformat_minor": 2
}
