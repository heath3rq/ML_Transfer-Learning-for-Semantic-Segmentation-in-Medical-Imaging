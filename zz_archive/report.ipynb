{
 "cells": [
  {
   "cell_type": "markdown",
   "metadata": {},
   "source": [
    "### 1. Visaulize original images"
   ]
  },
  {
   "cell_type": "code",
   "execution_count": null,
   "metadata": {},
   "outputs": [],
   "source": [
    "import os\n",
    "import matplotlib.pyplot as plt\n",
    "from PIL import Image\n",
    "\n",
    "# Path to the folder containing PNG images\n",
    "folder_path = \"/workspaces/ECE661GroupProject_TransferLearning/data/image_png_256_gray\"\n",
    "\n",
    "# Get a list of all PNG files in the folder\n",
    "png_files = [f for f in os.listdir(folder_path) if f.endswith('.png')]\n",
    "\n",
    "# Choose 10 images (adjust as needed)\n",
    "selected_images = png_files[48:53]\n",
    "\n",
    "# Set up the plot with 2 rows and 5 columns\n",
    "fig, axes = plt.subplots(1, 5, figsize=(10, 4))\n",
    "\n",
    "# Flatten the axes array for easier indexing\n",
    "axes = axes.flatten()\n",
    "\n",
    "# Loop through selected images and plot them\n",
    "for i, image_name in enumerate(selected_images):\n",
    "    # Construct the full path to the image\n",
    "    image_path = os.path.join(folder_path, image_name)\n",
    "\n",
    "    # Open the image using PIL\n",
    "    img = Image.open(image_path)\n",
    "\n",
    "    # Display the image on the corresponding subplot\n",
    "    axes[i].imshow(img, cmap='gray')\n",
    "    axes[i].axis('off')  # Turn off axis labels\n",
    "\n",
    "# Adjust layout for better visualization\n",
    "plt.tight_layout()\n",
    "\n",
    "# Show the plot\n",
    "plt.show()\n"
   ]
  },
  {
   "cell_type": "markdown",
   "metadata": {},
   "source": [
    "### 2. visualize inference"
   ]
  },
  {
   "cell_type": "markdown",
   "metadata": {},
   "source": []
  }
 ],
 "metadata": {
  "language_info": {
   "name": "python"
  }
 },
 "nbformat": 4,
 "nbformat_minor": 2
}
